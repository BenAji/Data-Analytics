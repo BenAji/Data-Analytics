{
 "cells": [
  {
   "cell_type": "markdown",
   "metadata": {},
   "source": [
    "## Clustering\n",
    "In this exercise, you will use K-Means clustering to segment customer data into five clusters.\n",
    "\n",
    "### Import the Libraries\n",
    "You will use the **KMeans** class to create your model. This will require a vector of features, so you will also use the **VectorAssembler** class.\n"
   ]
  },
  {
   "cell_type": "code",
   "execution_count": 1,
   "metadata": {
    "scrolled": false
   },
   "outputs": [
    {
     "ename": "ModuleNotFoundError",
     "evalue": "No module named 'pyspark'",
     "output_type": "error",
     "traceback": [
      "\u001b[1;31m---------------------------------------------------------------------------\u001b[0m",
      "\u001b[1;31mModuleNotFoundError\u001b[0m                       Traceback (most recent call last)",
      "\u001b[1;32m<ipython-input-1-9694439ff9a5>\u001b[0m in \u001b[0;36m<module>\u001b[1;34m\u001b[0m\n\u001b[1;32m----> 1\u001b[1;33m \u001b[1;32mfrom\u001b[0m \u001b[0mpyspark\u001b[0m\u001b[1;33m.\u001b[0m\u001b[0mml\u001b[0m\u001b[1;33m.\u001b[0m\u001b[0mclustering\u001b[0m \u001b[1;32mimport\u001b[0m \u001b[0mKMeans\u001b[0m\u001b[1;33m\u001b[0m\u001b[1;33m\u001b[0m\u001b[0m\n\u001b[0m\u001b[0;32m      2\u001b[0m \u001b[1;32mfrom\u001b[0m \u001b[0mpyspark\u001b[0m\u001b[1;33m.\u001b[0m\u001b[0mml\u001b[0m\u001b[1;33m.\u001b[0m\u001b[0mfeature\u001b[0m \u001b[1;32mimport\u001b[0m \u001b[0mVectorAssembler\u001b[0m\u001b[1;33m\u001b[0m\u001b[1;33m\u001b[0m\u001b[0m\n",
      "\u001b[1;31mModuleNotFoundError\u001b[0m: No module named 'pyspark'"
     ]
    }
   ],
   "source": [
    "from pyspark.ml.clustering import KMeans\n",
    "from pyspark.ml.feature import VectorAssembler"
   ]
  },
  {
   "cell_type": "markdown",
   "metadata": {},
   "source": [
    "### Load Source Data\n",
    "The source data for your clusters is in a comma-separated values (CSV) file, and incldues the following features:\n",
    "- CustomerName: The custome's name\n",
    "- Age: The customer's age in years\n",
    "- MaritalStatus: The custtomer's marital status (1=Married, 0 = Unmarried)\n",
    "- IncomeRange: The top-level for the customer's income range (for example, a value of 25,000 means the customer earns up to 25,000)\n",
    "- Gender: A numeric value indicating gender (1 = female, 2 = male)\n",
    "- TotalChildren: The total number of children the customer has\n",
    "- ChildrenAtHome: The number of children the customer has living at home.\n",
    "- Education: A numeric value indicating the highest level of education the customer has attained (1=Started High School to 5=Post-Graduate Degree\n",
    "- Occupation: A numeric value indicating the type of occupation of the customer (0=Unskilled manual work to 5=Professional)\n",
    "- HomeOwner: A numeric code to indicate home-ownership (1 - home owner, 0 = not a home owner)\n",
    "- Cars: The number of cars owned by the customer."
   ]
  },
  {
   "cell_type": "code",
   "execution_count": null,
   "metadata": {
    "scrolled": false
   },
   "outputs": [],
   "source": [
    "customers = spark.read.csv('wasb:///data/customers.csv', inferSchema=True, header=True)\n",
    "customers.show()"
   ]
  },
  {
   "cell_type": "markdown",
   "metadata": {},
   "source": [
    "### Create the K-Means Model\n",
    "You will use the feaures in the customer data to create a Kn-Means model with a k value of 5. This will be used to generate 5 clusters."
   ]
  },
  {
   "cell_type": "code",
   "execution_count": null,
   "metadata": {
    "scrolled": false
   },
   "outputs": [],
   "source": [
    "assembler = VectorAssembler(inputCols = [\"Age\", \"MaritalStatus\", \"IncomeRange\", \"Gender\", \"TotalChildren\", \"ChildrenAtHome\", \"Education\", \"Occupation\", \"HomeOwner\", \"Cars\"], outputCol=\"features\")\n",
    "train = assembler.transform(customers)\n",
    "\n",
    "kmeans = KMeans(featuresCol=assembler.getOutputCol(), predictionCol=\"cluster\", k=5, seed=0)\n",
    "model = kmeans.fit(train)\n",
    "print \"Model Created!\""
   ]
  },
  {
   "cell_type": "markdown",
   "metadata": {},
   "source": [
    "### Get the Cluster Centers\n",
    "The cluster centers are indicated as vector coordinates."
   ]
  },
  {
   "cell_type": "code",
   "execution_count": null,
   "metadata": {
    "scrolled": false
   },
   "outputs": [],
   "source": [
    "centers = model.clusterCenters()\n",
    "print(\"Cluster Centers: \")\n",
    "for center in centers:\n",
    "    print(center)"
   ]
  },
  {
   "cell_type": "markdown",
   "metadata": {},
   "source": [
    "### Predict Clusters\n",
    "Now that you have trained the model, you can use it to segemnt the customer data into 5 clusters and show each customer with their allocated cluster."
   ]
  },
  {
   "cell_type": "code",
   "execution_count": null,
   "metadata": {
    "scrolled": false
   },
   "outputs": [],
   "source": [
    "prediction = model.transform(train)\n",
    "prediction.groupBy(\"cluster\").count().orderBy(\"cluster\").show()"
   ]
  },
  {
   "cell_type": "code",
   "execution_count": null,
   "metadata": {},
   "outputs": [],
   "source": [
    "prediction.select(\"CustomerName\", \"cluster\").show(50)"
   ]
  }
 ],
 "metadata": {
  "kernelspec": {
   "display_name": "Python 3",
   "language": "python",
   "name": "python3"
  },
  "language_info": {
   "codemirror_mode": {
    "name": "ipython",
    "version": 3
   },
   "file_extension": ".py",
   "mimetype": "text/x-python",
   "name": "python",
   "nbconvert_exporter": "python",
   "pygments_lexer": "ipython3",
   "version": "3.7.1"
  }
 },
 "nbformat": 4,
 "nbformat_minor": 1
}
